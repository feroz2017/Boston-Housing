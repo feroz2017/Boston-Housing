{
  "nbformat": 4,
  "nbformat_minor": 0,
  "metadata": {
    "colab": {
      "name": "Untitled0.ipynb",
      "provenance": [],
      "authorship_tag": "ABX9TyPYyNm8yDQ03slckkFzVZx8",
      "include_colab_link": true
    },
    "kernelspec": {
      "name": "python3",
      "display_name": "Python 3"
    },
    "accelerator": "GPU"
  },
  "cells": [
    {
      "cell_type": "markdown",
      "metadata": {
        "id": "view-in-github",
        "colab_type": "text"
      },
      "source": [
        "<a href=\"https://colab.research.google.com/github/feroz2017/Boston-Housing/blob/master/testing.ipynb\" target=\"_parent\"><img src=\"https://colab.research.google.com/assets/colab-badge.svg\" alt=\"Open In Colab\"/></a>"
      ]
    },
    {
      "cell_type": "code",
      "metadata": {
        "id": "JzDutYjm9fcH",
        "colab_type": "code",
        "colab": {}
      },
      "source": [
        "import tensorflow as tf\n",
        "import numpy as np\n",
        "from tensorflow import keras\n",
        "import matplotlib.pyplot as plt\n"
      ],
      "execution_count": 18,
      "outputs": []
    },
    {
      "cell_type": "code",
      "metadata": {
        "id": "kisVFHdp9sAt",
        "colab_type": "code",
        "colab": {}
      },
      "source": [
        "model = keras.Sequential([keras.layers.Dense(units=1,input_shape=[1])])"
      ],
      "execution_count": 6,
      "outputs": []
    },
    {
      "cell_type": "code",
      "metadata": {
        "id": "MZbqV5Dh_BFs",
        "colab_type": "code",
        "colab": {}
      },
      "source": [
        "model.compile(optimizer='sgd', loss='mean_squared_error')"
      ],
      "execution_count": 7,
      "outputs": []
    },
    {
      "cell_type": "code",
      "metadata": {
        "id": "U_q54JGe_MZi",
        "colab_type": "code",
        "colab": {}
      },
      "source": [
        "x = np.array([1.0, 2.0,3.0,4.0,7.0],dtype=float)\n",
        "y = np.array([4.0,6.0,8.0,10.0,16.0],dtype=float)\n"
      ],
      "execution_count": 8,
      "outputs": []
    },
    {
      "cell_type": "code",
      "metadata": {
        "id": "CPCwyd4V_lIf",
        "colab_type": "code",
        "colab": {
          "base_uri": "https://localhost:8080/",
          "height": 289
        },
        "outputId": "f2601d8f-70ee-4f22-bd77-0b16effabbae"
      },
      "source": [
        "history = model.fit(x,y,epochs=8)"
      ],
      "execution_count": 22,
      "outputs": [
        {
          "output_type": "stream",
          "text": [
            "Epoch 1/8\n",
            "1/1 [==============================] - 0s 959us/step - loss: 0.4597\n",
            "Epoch 2/8\n",
            "1/1 [==============================] - 0s 770us/step - loss: 0.4550\n",
            "Epoch 3/8\n",
            "1/1 [==============================] - 0s 2ms/step - loss: 0.4503\n",
            "Epoch 4/8\n",
            "1/1 [==============================] - 0s 769us/step - loss: 0.4457\n",
            "Epoch 5/8\n",
            "1/1 [==============================] - 0s 787us/step - loss: 0.4412\n",
            "Epoch 6/8\n",
            "1/1 [==============================] - 0s 1ms/step - loss: 0.4367\n",
            "Epoch 7/8\n",
            "1/1 [==============================] - 0s 1ms/step - loss: 0.4322\n",
            "Epoch 8/8\n",
            "1/1 [==============================] - 0s 963us/step - loss: 0.4278\n"
          ],
          "name": "stdout"
        }
      ]
    },
    {
      "cell_type": "code",
      "metadata": {
        "id": "kkesIjme_pQk",
        "colab_type": "code",
        "colab": {
          "base_uri": "https://localhost:8080/",
          "height": 68
        },
        "outputId": "ca5ddad4-a51a-4002-81e4-4268b7376353"
      },
      "source": [
        " model.predict([10.0,8.0,13.0])"
      ],
      "execution_count": 23,
      "outputs": [
        {
          "output_type": "execute_result",
          "data": {
            "text/plain": [
              "array([[23.490835],\n",
              "       [18.941538],\n",
              "       [30.31478 ]], dtype=float32)"
            ]
          },
          "metadata": {
            "tags": []
          },
          "execution_count": 23
        }
      ]
    },
    {
      "cell_type": "code",
      "metadata": {
        "id": "0oU_N5kG_vM7",
        "colab_type": "code",
        "colab": {
          "base_uri": "https://localhost:8080/",
          "height": 319
        },
        "outputId": "d58675d7-fff8-4665-bbe9-7629e4512cc0"
      },
      "source": [
        "print(history.history)\n",
        "plt.plot(history.history['loss'])"
      ],
      "execution_count": 26,
      "outputs": [
        {
          "output_type": "stream",
          "text": [
            "{'loss': [0.4597008228302002, 0.4549993872642517, 0.4503467082977295, 0.44574159383773804, 0.44118374586105347, 0.4366725981235504, 0.4322074353694916, 0.4277878701686859]}\n"
          ],
          "name": "stdout"
        },
        {
          "output_type": "execute_result",
          "data": {
            "text/plain": [
              "[<matplotlib.lines.Line2D at 0x7fefa55ed6d8>]"
            ]
          },
          "metadata": {
            "tags": []
          },
          "execution_count": 26
        },
        {
          "output_type": "display_data",
          "data": {
            "image/png": "[encoded data removed]",
            "text/plain": [
              "<Figure size 432x288 with 1 Axes>"
            ]
          },
          "metadata": {
            "tags": [],
            "needs_background": "light"
          }
        }
      ]
    },
    {
      "cell_type": "code",
      "metadata": {
        "id": "IA6PHAGqBEdp",
        "colab_type": "code",
        "colab": {}
      },
      "source": [
        ""
      ],
      "execution_count": null,
      "outputs": []
    }
  ]
}